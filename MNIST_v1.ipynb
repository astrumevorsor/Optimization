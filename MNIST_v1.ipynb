{
 "cells": [
  {
   "cell_type": "markdown",
   "metadata": {},
   "source": [
    "# Overview:  HW3 - Question 4\n",
    "\n",
    "In this coding question, you'll implement a classifier with logistic regression\n",
    "$$ F(w) = \\frac{1}{N} \\sum_{i=1}^N \\log( 1 + e^{-\\langle w, x_i \\rangle y_i} ). $$\n",
    "\n",
    "For this problem, I would suggest using functions to prepare the dataset, run gradient descent, and return classification error.  By doing this, you only have to write the code one time and just use the functions to return results for part (4c)."
   ]
  },
  {
   "cell_type": "markdown",
   "metadata": {},
   "source": [
    "# Loading MNIST Data\n",
    "\n",
    "In this section, you will learn to load MNIST data.  If you do not have tensorflow available on your jupyter notebook, uncomment the next cell, run it, restart the kernel, and comment the next cell once more."
   ]
  },
  {
   "cell_type": "code",
   "execution_count": 1,
   "metadata": {},
   "outputs": [],
   "source": [
    "#!pip3 install sklearn"
   ]
  },
  {
   "cell_type": "code",
   "execution_count": 2,
   "metadata": {},
   "outputs": [],
   "source": [
    "# import statements\n",
    "import pandas as pd\n",
    "import numpy as np\n",
    "from matplotlib import pyplot as plt\n",
    "from sklearn.datasets import fetch_openml"
   ]
  },
  {
   "cell_type": "code",
   "execution_count": 3,
   "metadata": {},
   "outputs": [
    {
     "name": "stdout",
     "output_type": "stream",
     "text": [
      "X shape: (70000, 784) y shape: (70000,)\n"
     ]
    }
   ],
   "source": [
    "# this cell will take a minute to run depending on your internet connection\n",
    "X, y = fetch_openml('mnist_784', version=1, return_X_y=True) # getting data from online\n",
    "print('X shape:', X.shape, 'y shape:', y.shape)"
   ]
  },
  {
   "cell_type": "code",
   "execution_count": 4,
   "metadata": {},
   "outputs": [
    {
     "name": "stdout",
     "output_type": "stream",
     "text": [
      "Shape of data with label 0 : (6903, 28, 28)\n",
      "Shape of data with label 1 : (7877, 28, 28)\n",
      "Shape of data with label 2 : (6990, 28, 28)\n",
      "Shape of data with label 3 : (7141, 28, 28)\n",
      "Shape of data with label 4 : (6824, 28, 28)\n",
      "Shape of data with label 5 : (6313, 28, 28)\n",
      "Shape of data with label 6 : (6876, 28, 28)\n",
      "Shape of data with label 7 : (7293, 28, 28)\n",
      "Shape of data with label 8 : (6825, 28, 28)\n",
      "Shape of data with label 9 : (6958, 28, 28)\n"
     ]
    }
   ],
   "source": [
    "# this cell processes some of the data\n",
    "\n",
    "# if this returns an error of the form \"KeyError: 0\", then try running the following first:\n",
    "\n",
    "X = X.values # this converts X from a pandas dataframe to a numpy array\n",
    "#you can also use a defaultdict here\n",
    "digits = {j:[] for j in range(10)}\n",
    "for j in range(len(y)): # takes data assigns it into a dictionary\n",
    "    digits[int(y[j])].append(X[j].reshape(28,28))\n",
    "digits = {j:np.stack(digits[j]) for j in range(10)} # stack everything to be one numpy array\n",
    "for j in range(10):\n",
    "    print('Shape of data with label', j, ':', digits[j].shape )"
   ]
  },
  {
   "cell_type": "code",
   "execution_count": 5,
   "metadata": {},
   "outputs": [],
   "source": [
    "# this cell would stack 100 examples from each class together\n",
    "# this cell also ensures that each pixel is a flot between 0 and 1 instead of an int between 0 and 255\n",
    "data = []\n",
    "for i in range(10):\n",
    "    flattened_images = digits[i][:100].reshape(100,-1)\n",
    "    data.append(flattened_images)\n",
    "    \n",
    "data = np.vstack(data)\n",
    "data = data.astype('float32') / 255.0"
   ]
  },
  {
   "cell_type": "markdown",
   "metadata": {},
   "source": [
    "# (4a) Plotting\n",
    "\n",
    "Display one randomly selected image from your training data for each digit class. Provide the index number for each image."
   ]
  },
  {
   "cell_type": "code",
   "execution_count": 6,
   "metadata": {},
   "outputs": [
    {
     "data": {
      "image/png": "[encoded data removed]",
      "text/plain": [
       "<Figure size 1000x500 with 10 Axes>"
      ]
     },
     "metadata": {},
     "output_type": "display_data"
    }
   ],
   "source": [
    "# plot data here (this should have an output)\n",
    "\n",
    "def plot_data():\n",
    "    plt.figure(figsize=(10, 5)) \n",
    "    for i in range(10):\n",
    "        plt.subplot(2, 5, i+1)\n",
    "        random_num = np.random.randint(0, 100) #it's best to use the random randint because we are using a numpy object, else we could have used random\n",
    "        plt.imshow(data[i*100 + random_num].reshape(28, 28), cmap='gray')\n",
    "        plt.title(f'Digit {i}\\nIndex: {random_num}')\n",
    "        plt.axis('off')\n",
    "    plt.tight_layout()\n",
    "    plt.show()\n",
    "\n",
    "if __name__==\"__main__\":\n",
    "    plot_data()"
   ]
  },
  {
   "cell_type": "markdown",
   "metadata": {},
   "source": [
    "# (4b) Label data\n",
    "\n",
    "Select the first 500 examples of 0’s and 1’s for this example, those will form the training data $(x_i , y_i) \\in \\mathbb{R}^{784} \\times \\{−1,1\\}, i = 1,...,1000$. Assign label $y_i = 1$ for 1s and $y_i = −1$ for 0s.  Also, renormalize your $x_i$ so that the pixel values are floats between 0 and 1, instead of ints from 0 to 255.  You can do this by augmenting the code given above for stacking data from different classes."
   ]
  },
  {
   "cell_type": "code",
   "execution_count": 7,
   "metadata": {},
   "outputs": [
    {
     "name": "stdout",
     "output_type": "stream",
     "text": [
      "Training data shape: (1000, 784)\n",
      "Labels shape: (1000,)\n",
      "Label values: [-1.  1.]\n",
      "X range: 0.0 to 1.0\n"
     ]
    }
   ],
   "source": [
    "zeros = digits[0][:500].reshape(500, 784)  # Reshape from (500, 28, 28) to (500, 784)\n",
    "ones = digits[1][:500].reshape(500, 784)   # Reshape from (500, 28, 28) to (500, 784)\n",
    "\n",
    "# Step 2: Stack the data and normalize to [0,1]\n",
    "X_train = np.vstack((zeros, ones)).astype('float32') / 255.0\n",
    "\n",
    "# Step 3: Create labels (-1 for zeros, 1 for ones)\n",
    "y_train = np.concatenate([-np.ones(500), np.ones(500)])\n",
    "\n",
    "# Verify the shapes and data\n",
    "print(\"Training data shape:\", X_train.shape)\n",
    "print(\"Labels shape:\", y_train.shape)\n",
    "print(\"Label values:\", np.unique(y_train))\n",
    "print(\"X range:\", np.min(X_train), \"to\", np.max(X_train))"
   ]
  },
  {
   "cell_type": "markdown",
   "metadata": {},
   "source": [
    "# (4c) Running Gradient Descent\n",
    "\n",
    "Implement and run a Gradient Descent algorithm, with step-size $\\mu = 10^{-4}$, to optimize the function above associated with this setup. You should run your algorithm for at least $T = 10,000$ iterations, but if your computer can handle it try $T=100,000$ or until a reasonable stopping criterion is satisfied.  Provide a plot showing the value of $F(w)$ at each iteration. Also, feel free to adjust $\\mu$ to be larger / smaller if the plot does not match your expectations."
   ]
  },
  {
   "cell_type": "code",
   "execution_count": 12,
   "metadata": {},
   "outputs": [
    {
     "name": "stdout",
     "output_type": "stream",
     "text": [
      "Training...\n",
      "Iteration 100, Loss: 0.657571\n",
      "Iteration 200, Loss: 0.625512\n",
      "Iteration 300, Loss: 0.596741\n",
      "Iteration 400, Loss: 0.570753\n",
      "Iteration 500, Loss: 0.547131\n",
      "Iteration 600, Loss: 0.525532\n",
      "Iteration 700, Loss: 0.505679\n",
      "Iteration 800, Loss: 0.487344\n",
      "Iteration 900, Loss: 0.470337\n",
      "Iteration 1000, Loss: 0.454504\n",
      "Iteration 1100, Loss: 0.439715\n",
      "Iteration 1200, Loss: 0.425862\n",
      "Iteration 1300, Loss: 0.412850\n",
      "Iteration 1400, Loss: 0.400602\n",
      "Iteration 1500, Loss: 0.389049\n",
      "Iteration 1600, Loss: 0.378131\n",
      "Iteration 1700, Loss: 0.367797\n",
      "Iteration 1800, Loss: 0.358000\n",
      "Iteration 1900, Loss: 0.348699\n",
      "Iteration 2000, Loss: 0.339859\n",
      "Iteration 2100, Loss: 0.331446\n",
      "Iteration 2200, Loss: 0.323431\n",
      "Iteration 2300, Loss: 0.315787\n",
      "Iteration 2400, Loss: 0.308489\n",
      "Iteration 2500, Loss: 0.301516\n",
      "Iteration 2600, Loss: 0.294847\n",
      "Iteration 2700, Loss: 0.288464\n",
      "Iteration 2800, Loss: 0.282348\n",
      "Iteration 2900, Loss: 0.276486\n",
      "Iteration 3000, Loss: 0.270860\n",
      "Iteration 3100, Loss: 0.265460\n",
      "Iteration 3200, Loss: 0.260271\n",
      "Iteration 3300, Loss: 0.255281\n",
      "Iteration 3400, Loss: 0.250481\n",
      "Iteration 3500, Loss: 0.245861\n",
      "Iteration 3600, Loss: 0.241409\n",
      "Iteration 3700, Loss: 0.237119\n",
      "Iteration 3800, Loss: 0.232981\n",
      "Iteration 3900, Loss: 0.228989\n",
      "Iteration 4000, Loss: 0.225134\n",
      "Iteration 4100, Loss: 0.221410\n",
      "Iteration 4200, Loss: 0.217811\n",
      "Iteration 4300, Loss: 0.214330\n",
      "Iteration 4400, Loss: 0.210963\n",
      "Iteration 4500, Loss: 0.207704\n",
      "Iteration 4600, Loss: 0.204548\n",
      "Iteration 4700, Loss: 0.201490\n",
      "Iteration 4800, Loss: 0.198526\n",
      "Iteration 4900, Loss: 0.195652\n",
      "Iteration 5000, Loss: 0.192863\n",
      "Iteration 5100, Loss: 0.190157\n",
      "Iteration 5200, Loss: 0.187530\n",
      "Iteration 5300, Loss: 0.184978\n",
      "Iteration 5400, Loss: 0.182499\n",
      "Iteration 5500, Loss: 0.180088\n",
      "Iteration 5600, Loss: 0.177745\n",
      "Iteration 5700, Loss: 0.175465\n",
      "Iteration 5800, Loss: 0.173246\n",
      "Iteration 5900, Loss: 0.171087\n",
      "Iteration 6000, Loss: 0.168984\n",
      "Iteration 6100, Loss: 0.166936\n",
      "Iteration 6200, Loss: 0.164940\n",
      "Iteration 6300, Loss: 0.162995\n",
      "Iteration 6400, Loss: 0.161098\n",
      "Iteration 6500, Loss: 0.159248\n",
      "Iteration 6600, Loss: 0.157444\n",
      "Iteration 6700, Loss: 0.155683\n",
      "Iteration 6800, Loss: 0.153964\n",
      "Iteration 6900, Loss: 0.152285\n",
      "Iteration 7000, Loss: 0.150646\n",
      "Iteration 7100, Loss: 0.149045\n",
      "Iteration 7200, Loss: 0.147480\n",
      "Iteration 7300, Loss: 0.145950\n",
      "Iteration 7400, Loss: 0.144455\n",
      "Iteration 7500, Loss: 0.142992\n",
      "Iteration 7600, Loss: 0.141562\n",
      "Iteration 7700, Loss: 0.140162\n",
      "Iteration 7800, Loss: 0.138792\n",
      "Iteration 7900, Loss: 0.137452\n",
      "Iteration 8000, Loss: 0.136139\n",
      "Iteration 8100, Loss: 0.134854\n",
      "Iteration 8200, Loss: 0.133595\n",
      "Iteration 8300, Loss: 0.132361\n",
      "Iteration 8400, Loss: 0.131153\n",
      "Iteration 8500, Loss: 0.129968\n",
      "Iteration 8600, Loss: 0.128807\n",
      "Iteration 8700, Loss: 0.127668\n",
      "Iteration 8800, Loss: 0.126552\n",
      "Iteration 8900, Loss: 0.125457\n",
      "Iteration 9000, Loss: 0.124382\n",
      "Iteration 9100, Loss: 0.123328\n",
      "Iteration 9200, Loss: 0.122294\n",
      "Iteration 9300, Loss: 0.121278\n",
      "Iteration 9400, Loss: 0.120281\n",
      "Iteration 9500, Loss: 0.119303\n",
      "Iteration 9600, Loss: 0.118341\n",
      "Iteration 9700, Loss: 0.117397\n",
      "Iteration 9800, Loss: 0.116470\n",
      "Iteration 9900, Loss: 0.115558\n",
      "Iteration 10000, Loss: 0.114663\n"
     ]
    },
    {
     "data": {
      "image/png": "[encoded data removed]",
      "text/plain": [
       "<Figure size 640x480 with 1 Axes>"
      ]
     },
     "metadata": {},
     "output_type": "display_data"
    }
   ],
   "source": [
    "import numpy as np\n",
    "import matplotlib.pyplot as plt\n",
    "#code here is inspired from the intuition of gradient descent, Yann LeCun MNIST\n",
    "def train_logistic_regression(X, y, learning_rate=1e-4, n_iterations=10000):\n",
    "    # Initialize weights to zero\n",
    "    \n",
    "    w = np.zeros(X.shape[1])\n",
    "    losses = []\n",
    "    \n",
    "    # Main training loop\n",
    "    for i in range(n_iterations):\n",
    "        # Forward pass (compute loss)\n",
    "        z = -y * np.dot(X, w)\n",
    "        loss = np.mean(np.logaddexp(0, z))\n",
    "        losses.append(loss)\n",
    "        \n",
    "        # Backward pass (compute gradient and update)\n",
    "        sigmoid = 1 / (1 + np.exp(-z))\n",
    "        gradient = -1/len(y) * np.dot(X.T, y * sigmoid)\n",
    "        w = w - learning_rate * gradient\n",
    "        \n",
    "        # Print progress every 100 iterations\n",
    "        if (i + 1) % 100 == 0:\n",
    "            print(f\"Iteration {i+1}, Loss: {loss:.6f}\")\n",
    "    \n",
    "    return w, losses\n",
    "\n",
    "print(\"Training...\")\n",
    "w, losses = train_logistic_regression(X_train, y_train)\n",
    "plt.plot(losses)\n",
    "plt.title('Training Loss')\n",
    "plt.xlabel('Iteration')\n",
    "plt.ylabel('Loss')\n",
    "plt.grid(True)\n",
    "plt.show()"
   ]
  },
  {
   "cell_type": "markdown",
   "metadata": {},
   "source": [
    "# (4d) Discussion about gradient descent\n",
    "\n",
    "Comment on the resulting plot. In particular, does the shape of $F(w)$ suggest you've successfully converged to a local or global minimum?  Does it appear you chose a good stopping criteria?  Explain whether your\n",
    "answers to these questions are consistent with the theory we discussed in class (and in the\n",
    "notes). Be specific i.e., point to a specific theorem (or theorems) and indicate\n",
    "why it does or does not explain the behavior of the algorithm.  Would the theory dictate a different choice of $\\mu$ than the one we used?"
   ]
  },
  {
   "cell_type": "markdown",
   "metadata": {},
   "source": [
    "Put discussion here:"
   ]
  },
  {
   "cell_type": "markdown",
   "metadata": {},
   "source": [
    "Now, use the $w$ you found from part (a) to classify the first 500 \\emph{test} data points associated to\n",
    "each of the 0 and 1 handwritten digits. Recall that you need to use the function $y = \\text{sign}(w^T x)$\n",
    "to classify. What was the classification error rate associated with the two digits on the test\n",
    "data (this should be a number between 0 and 1)? What was it on the training data?  Does this relationship make sense?"
   ]
  },
  {
   "cell_type": "code",
   "execution_count": 17,
   "metadata": {},
   "outputs": [
    {
     "name": "stdout",
     "output_type": "stream",
     "text": [
      "(1000, 784)\n"
     ]
    }
   ],
   "source": [
    "# Select the next 500 examples of 0s and 1s for testing\n",
    "X_test_zeros = digits[0][500:1000].reshape(500, 784)  # Next 500 images of digit 0\n",
    "X_test_ones = digits[1][500:1000].reshape(500, 784)  # Next 500 images of digit 1\n",
    "\n",
    "# Stack the test data for 0s and 1s into a single array\n",
    "X_test = np.vstack((X_test_zeros, X_test_ones))\n",
    "# Step 2: Stack the data and normalize to [0,1]\n",
    "X_train = np.vstack((zeros, ones)).astype('float32') / 255.0\n",
    "\n",
    "# Step 3: Create labels (-1 for zeros, 1 for ones)\n",
    "y_train = np.concatenate([-np.ones(500), np.ones(500)])\n",
    "\n",
    "print(X_test.shape)\n",
    "# Create labels for the test data: -1 for 0s, +1 for 1s\n",
    "y_test = np.concatenate((-np.ones(500), np.ones(500)))\n"
   ]
  },
  {
   "cell_type": "code",
   "execution_count": 24,
   "metadata": {},
   "outputs": [
    {
     "name": "stdout",
     "output_type": "stream",
     "text": [
      "Training Error Rate: 0.003\n",
      "Test Error Rate: 0.004\n"
     ]
    }
   ],
   "source": [
    "\n",
    "def classify(X, w):\n",
    "    \"\"\"\n",
    "    Classify data points using the learned weight vector w.\n",
    "    Args:\n",
    "        X (numpy array): Data matrix where each row is a data point.\n",
    "        w (numpy array): Learned weights from logistic regression.\n",
    "    Returns:\n",
    "        numpy array: Predicted labels (+1 or -1).\n",
    "    \"\"\"\n",
    "    return np.sign(np.dot(X, w))\n",
    "\n",
    "def calculate_error_rate(y_true, y_pred):\n",
    "    \"\"\"\n",
    "    Calculate the classification error rate using pure boolean logic.\n",
    "    Args:\n",
    "        y_true (numpy array): True labels.\n",
    "        y_pred (numpy array): Predicted labels.\n",
    "    Returns:\n",
    "        float: Error rate as a number between 0 and 1.\n",
    "    \"\"\"\n",
    "    # Boolean array where True represents an incorrect prediction\n",
    "    incorrect = y_true != y_pred\n",
    "    # Calculate error rate as the mean of the boolean array (True = 1, False = 0)\n",
    "    return np.mean(incorrect)\n",
    "\n",
    "# Calculate the training error rate\n",
    "y_train_pred = classify(X_train, w)\n",
    "train_error_rate = calculate_error_rate(y_train, y_train_pred)\n",
    "print(\"Training Error Rate:\", train_error_rate)\n",
    "\n",
    "# Calculate the test error rate\n",
    "y_test_pred = classify(X_test, w)\n",
    "test_error_rate = calculate_error_rate(y_test, y_test_pred)\n",
    "print(\"Test Error Rate:\", test_error_rate)\n"
   ]
  },
  {
   "cell_type": "code",
   "execution_count": null,
   "metadata": {},
   "outputs": [],
   "source": []
  }
 ],
 "metadata": {
  "kernelspec": {
   "display_name": "Python 3 (ipykernel)",
   "language": "python",
   "name": "python3"
  },
  "language_info": {
   "codemirror_mode": {
    "name": "ipython",
    "version": 3
   },
   "file_extension": ".py",
   "mimetype": "text/x-python",
   "name": "python",
   "nbconvert_exporter": "python",
   "pygments_lexer": "ipython3",
   "version": "3.11.9"
  },
  "toc": {
   "base_numbering": 1,
   "nav_menu": {},
   "number_sections": true,
   "sideBar": true,
   "skip_h1_title": false,
   "title_cell": "Table of Contents",
   "title_sidebar": "Contents",
   "toc_cell": false,
   "toc_position": {},
   "toc_section_display": true,
   "toc_window_display": false
  }
 },
 "nbformat": 4,
 "nbformat_minor": 4
}
